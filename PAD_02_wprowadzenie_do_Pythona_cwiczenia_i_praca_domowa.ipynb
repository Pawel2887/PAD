{
 "cells": [
  {
   "cell_type": "markdown",
   "metadata": {
    "id": "YBf77-O2VMaK"
   },
   "source": [
    "## iterator"
   ]
  },
  {
   "cell_type": "code",
   "execution_count": null,
   "metadata": {
    "id": "MobBtdWEVEu1"
   },
   "outputs": [],
   "source": [
    "'''\n",
    "Zadanie 1\n",
    "Zaimplementuj własny iterator o nazwie tetranacci, zwracający kolejne liczby ciągu Tetranacciego.\n",
    "Funkcja __init__ powinna posiadać parametr o nazwie steps określający liczbę wyrazów ciągu,\n",
    "po których funkcja __next__ rzuca wyjątek StopIteration.\n",
    "Napisz program, w którym wykorzystasz swój iterator do wypisania na ekranie kolejnych wyrazów tego ciągu.\n",
    "Niech liczbę wyrazów do wypisania podaje użytkownik.\n",
    "\n",
    "'''"
   ]
  },
  {
   "cell_type": "code",
   "execution_count": 17,
   "metadata": {},
   "outputs": [],
   "source": [
    "class Tetranacci:\n",
    "    def __init__(self, steps):\n",
    "        self.steps = steps\n",
    "        self.counter = 0\n",
    "        self.values = [0,0,0,1]\n",
    "    def __iter__(self):\n",
    "        return self\n",
    "    def __next__(self):\n",
    "        if self.counter < self.steps:\n",
    "            self.counter += 1\n",
    "            if self.counter <= 4:\n",
    "                return self.values[self.counter-1]\n",
    "            else:\n",
    "                next_value = sum(self.values)\n",
    "                self.values = self.values[1:] + [next_value]\n",
    "        else:\n",
    "            raise StopIteration\n",
    "steps = 4\n",
    "tet = Tetranacci(steps)"
   ]
  },
  {
   "cell_type": "code",
   "execution_count": 18,
   "metadata": {},
   "outputs": [
    {
     "name": "stdout",
     "output_type": "stream",
     "text": [
      "0\n",
      "0\n",
      "0\n",
      "1\n"
     ]
    },
    {
     "ename": "StopIteration",
     "evalue": "",
     "output_type": "error",
     "traceback": [
      "\u001b[1;31m---------------------------------------------------------------------------\u001b[0m",
      "\u001b[1;31mStopIteration\u001b[0m                             Traceback (most recent call last)",
      "Cell \u001b[1;32mIn[18], line 5\u001b[0m\n\u001b[0;32m      3\u001b[0m \u001b[39mprint\u001b[39m(\u001b[39mnext\u001b[39m(tet))\n\u001b[0;32m      4\u001b[0m \u001b[39mprint\u001b[39m(\u001b[39mnext\u001b[39m(tet))\n\u001b[1;32m----> 5\u001b[0m \u001b[39mprint\u001b[39m(\u001b[39mnext\u001b[39;49m(tet))\n",
      "Cell \u001b[1;32mIn[17], line 17\u001b[0m, in \u001b[0;36mTetranacci.__next__\u001b[1;34m(self)\u001b[0m\n\u001b[0;32m     15\u001b[0m         \u001b[39mself\u001b[39m\u001b[39m.\u001b[39mvalues \u001b[39m=\u001b[39m \u001b[39mself\u001b[39m\u001b[39m.\u001b[39mvalues[\u001b[39m1\u001b[39m:] \u001b[39m+\u001b[39m [next_value]\n\u001b[0;32m     16\u001b[0m \u001b[39melse\u001b[39;00m:\n\u001b[1;32m---> 17\u001b[0m     \u001b[39mraise\u001b[39;00m \u001b[39mStopIteration\u001b[39;00m\n",
      "\u001b[1;31mStopIteration\u001b[0m: "
     ]
    }
   ],
   "source": [
    "print(next(tet))\n",
    "print(next(tet))\n",
    "print(next(tet))\n",
    "print(next(tet))\n",
    "print(next(tet))"
   ]
  },
  {
   "cell_type": "markdown",
   "metadata": {
    "id": "HgA0kNjTVXwG"
   },
   "source": [
    "## generator"
   ]
  },
  {
   "cell_type": "code",
   "execution_count": null,
   "metadata": {
    "id": "hl3BhofyVdoH"
   },
   "outputs": [],
   "source": [
    "'''\n",
    "Zadanie 2\n",
    "Zaimplementuj własny generator o nazwie accumulate,\n",
    "zwracający kolejne sumy elementów z podanego obiektu iterowalnego.\n",
    "'''"
   ]
  },
  {
   "cell_type": "code",
   "execution_count": 5,
   "metadata": {},
   "outputs": [
    {
     "name": "stdout",
     "output_type": "stream",
     "text": [
      "1\n",
      "3\n",
      "6\n",
      "10\n",
      "15\n",
      "21\n"
     ]
    }
   ],
   "source": [
    "def accumulate(iterable_object):\n",
    "    total = 0\n",
    "    for val in iterable_object:\n",
    "        total += val\n",
    "        yield total\n",
    "\n",
    "it_ob = [1,2,3,4,5,6]\n",
    "acc = accumulate(it_ob)\n",
    "\n",
    "\n",
    "\n",
    "for val in acc:\n",
    "    print(val)"
   ]
  },
  {
   "cell_type": "code",
   "execution_count": null,
   "metadata": {
    "id": "ffhbiOTJVnmB"
   },
   "outputs": [],
   "source": [
    "'''\n",
    "Zadanie 3\n",
    "\n",
    "Napisz własny dekorator o nazwie hello. Wynikiem jego działania powinno być:\n",
    "• wypisanie na ekranie napisu hello\n",
    "• wywołanie funkcji przekazanej jako argument.\n",
    "'''"
   ]
  },
  {
   "cell_type": "code",
   "execution_count": 7,
   "metadata": {},
   "outputs": [
    {
     "name": "stdout",
     "output_type": "stream",
     "text": [
      "Hello\n",
      "Nice to meet you Dominika\n"
     ]
    }
   ],
   "source": [
    "def hello(func):\n",
    "    def wrapper(*args, **kwargs):\n",
    "        print(\"Hello\")\n",
    "        return func(*args, **kwargs)\n",
    "    return wrapper\n",
    "\n",
    "@hello\n",
    "def greet(name):\n",
    "    print(f\"Nice to meet you {name}\")\n",
    "greet(\"Dominika\")"
   ]
  },
  {
   "cell_type": "code",
   "execution_count": null,
   "metadata": {
    "id": "NjZRSS6sVrm5"
   },
   "outputs": [],
   "source": [
    "'''\n",
    "Zadanie 4\n",
    "Zaimplementuj własną funkcję o nazwie tetranacci, zwracający określony element ciągu Tetranacciego.\n",
    "Funkcja powinna posiadać parametr o nazwie n określający numer wyrazu ciągu do obliczenia.\n",
    "Obliczenia wykonuj rekurencyjnie.\n",
    "'''"
   ]
  },
  {
   "cell_type": "code",
   "execution_count": 13,
   "metadata": {},
   "outputs": [
    {
     "data": {
      "text/plain": [
       "29"
      ]
     },
     "execution_count": 13,
     "metadata": {},
     "output_type": "execute_result"
    }
   ],
   "source": [
    "def tetranacci(n):\n",
    "    if n == 1 or n == 2 or n == 3:\n",
    "        return 0\n",
    "    elif n == 4:\n",
    "        return 1\n",
    "    else:\n",
    "        return tetranacci(n - 1) + tetranacci(n - 2) + tetranacci(n - 3) + tetranacci(n - 4)\n",
    "    \n",
    "tetranacci(10)"
   ]
  },
  {
   "cell_type": "markdown",
   "metadata": {
    "id": "eDFgAg3cWRAk"
   },
   "source": [
    "## klasy"
   ]
  },
  {
   "cell_type": "code",
   "execution_count": null,
   "metadata": {
    "id": "LMrKGhhSWMM8"
   },
   "outputs": [],
   "source": [
    "'''\n",
    "Zadanie 5\n",
    "Stwórz klasę Pojazd z atrybutami predkosc_max i przebieg\n",
    "stwórz instancję klasy i wydrukuj jej atrybuty do konsoli\n",
    "tworzac instancję możesz podać dowolne wielkości\n",
    "'''"
   ]
  },
  {
   "cell_type": "code",
   "execution_count": 2,
   "metadata": {},
   "outputs": [
    {
     "ename": "TypeError",
     "evalue": "Pojazd.__init__() missing 1 required positional argument: 'model'",
     "output_type": "error",
     "traceback": [
      "\u001b[1;31m---------------------------------------------------------------------------\u001b[0m",
      "\u001b[1;31mTypeError\u001b[0m                                 Traceback (most recent call last)",
      "Input \u001b[1;32mIn [2]\u001b[0m, in \u001b[0;36m<cell line: 7>\u001b[1;34m()\u001b[0m\n\u001b[0;32m      4\u001b[0m         \u001b[38;5;28mself\u001b[39m\u001b[38;5;241m.\u001b[39mprzebieg \u001b[38;5;241m=\u001b[39m przebieg\n\u001b[0;32m      5\u001b[0m         \u001b[38;5;28mself\u001b[39m\u001b[38;5;241m.\u001b[39mmodel \u001b[38;5;241m=\u001b[39m model\n\u001b[1;32m----> 7\u001b[0m pojazd \u001b[38;5;241m=\u001b[39m  \u001b[43mPojazd\u001b[49m\u001b[43m(\u001b[49m\u001b[38;5;241;43m200\u001b[39;49m\u001b[43m,\u001b[49m\u001b[43m \u001b[49m\u001b[38;5;241;43m34\u001b[39;49m\u001b[43m)\u001b[49m\n\u001b[0;32m      8\u001b[0m \u001b[38;5;28mprint\u001b[39m(pojazd\u001b[38;5;241m.\u001b[39mprzebieg)\n\u001b[0;32m      9\u001b[0m \u001b[38;5;28mprint\u001b[39m(pojazd\u001b[38;5;241m.\u001b[39mpredkosc_max)\n",
      "\u001b[1;31mTypeError\u001b[0m: Pojazd.__init__() missing 1 required positional argument: 'model'"
     ]
    }
   ],
   "source": [
    "class Pojazd:\n",
    "    def __init__(self, predkosc_max, przebieg, model):\n",
    "        self.predkosc_max = predkosc_max\n",
    "        self.przebieg = przebieg\n",
    "        self.model = model\n",
    "\n",
    "pojazd =  Pojazd(200, 34)\n",
    "print(pojazd.przebieg)\n",
    "print(pojazd.predkosc_max)"
   ]
  },
  {
   "cell_type": "code",
   "execution_count": null,
   "metadata": {
    "id": "z_dYT1f5Wexv"
   },
   "outputs": [],
   "source": [
    "'''\n",
    "Zadanie 6\n",
    "Stwórz klasę Autobus, która dziedziczy po Pojeździe utworzonym wcześniej,\n",
    "ale do atrybutów Pojazdu dodaj jeszcze nazwę modelu\n",
    "stwórz instancję klasy i wydrukuj jej atrybuty\n",
    "'''"
   ]
  },
  {
   "cell_type": "code",
   "execution_count": 3,
   "metadata": {},
   "outputs": [
    {
     "name": "stdout",
     "output_type": "stream",
     "text": [
      "150\n",
      "200\n",
      "Autobus XYZ\n"
     ]
    }
   ],
   "source": [
    "class Autobus(Pojazd):\n",
    "    #def __init__(self, predkosc_max, przebieg, model):\n",
    "    #   super().__init__(predkosc_max, przebieg, model)\n",
    "    pass\n",
    "\n",
    "autobus = Autobus(150, 200, \"Autobus XYZ\")\n",
    "\n",
    "print(autobus.predkosc_max)\n",
    "print(autobus.przebieg)\n",
    "print(autobus.model)"
   ]
  },
  {
   "cell_type": "code",
   "execution_count": null,
   "metadata": {
    "id": "CDj9cBQoWj-v"
   },
   "outputs": [],
   "source": [
    "'''\n",
    "Zadanie 7\n",
    "klasie Pojazd utwórz metodę liczba_miejsc, która będzie przyjmowała jako argument liczbę miejsc i wyświetlała komunikat:\n",
    "\"{TU WSTAWIMY NAZWE POJAZDU} pomieści {LICZBA MIEJSC} osób.\"\n",
    "Klasa Autobus ma też dziedziczyć tę metodę, ale dodatkowo przyjmować wartość domyślną dla liczby miejsc = 50\n",
    "Utwórz instancję klasy aby zaprezentować działanie\n",
    "'''"
   ]
  },
  {
   "cell_type": "code",
   "execution_count": 27,
   "metadata": {},
   "outputs": [
    {
     "ename": "TypeError",
     "evalue": "Pojazd.liczba_miejsc() missing 1 required positional argument: 'miejsca'",
     "output_type": "error",
     "traceback": [
      "\u001b[1;31m---------------------------------------------------------------------------\u001b[0m",
      "\u001b[1;31mTypeError\u001b[0m                                 Traceback (most recent call last)",
      "Cell \u001b[1;32mIn[27], line 17\u001b[0m\n\u001b[0;32m     14\u001b[0m         \u001b[39mreturn\u001b[39;00m \u001b[39mf\u001b[39m\u001b[39m\"\u001b[39m\u001b[39m{\u001b[39;00m\u001b[39mself\u001b[39m\u001b[39m.\u001b[39mmodel\u001b[39m}\u001b[39;00m\u001b[39m pomiesci \u001b[39m\u001b[39m{\u001b[39;00mmiejsca\u001b[39m}\u001b[39;00m\u001b[39m osob\u001b[39m\u001b[39m\"\u001b[39m\n\u001b[0;32m     16\u001b[0m autobus \u001b[39m=\u001b[39m Autobus(\u001b[39m150\u001b[39m, \u001b[39m200\u001b[39m, \u001b[39m\"\u001b[39m\u001b[39mAutobus XYZ\u001b[39m\u001b[39m\"\u001b[39m)\n\u001b[1;32m---> 17\u001b[0m \u001b[39mprint\u001b[39m(autobus\u001b[39m.\u001b[39;49mliczba_miejsc())\n\u001b[0;32m     18\u001b[0m \u001b[39mprint\u001b[39m(autobus\u001b[39m.\u001b[39mliczba_miejsc(\u001b[39m20\u001b[39m))\n",
      "\u001b[1;31mTypeError\u001b[0m: Pojazd.liczba_miejsc() missing 1 required positional argument: 'miejsca'"
     ]
    }
   ],
   "source": [
    "class Pojazd:\n",
    "    def __init__(self, predkosc_max, przebieg, model):\n",
    "        self.predkosc_max = predkosc_max\n",
    "        self.przebieg = przebieg\n",
    "        self.model = model\n",
    "    def liczba_miejsc(self, miejsca):\n",
    "        return f\"{self.model} pomiesci {miejsca} osob\"\n",
    "\n",
    "class Autobus(Pojazd):\n",
    "    #def __init__(self, predkosc_max, przebieg, model):\n",
    "    #   super().__init__(predkosc_max, przebieg, model)\n",
    "    pass\n",
    "def liczba_miejsc(self, miejsca=50):\n",
    "        return f\"{self.model} pomiesci {miejsca} osob\"\n",
    "\n",
    "autobus = Autobus(150, 200, \"Autobus XYZ\")\n",
    "print(autobus.liczba_miejsc())\n",
    "print(autobus.liczba_miejsc(20))"
   ]
  },
  {
   "cell_type": "code",
   "execution_count": null,
   "metadata": {
    "id": "y2s80EMmWrKP"
   },
   "outputs": [],
   "source": [
    "'''\n",
    "Zadanie 8\n",
    "Sprawdź czy obiekt autobus jest instancją klasy Pojazd\n",
    "'''"
   ]
  },
  {
   "cell_type": "code",
   "execution_count": 29,
   "metadata": {},
   "outputs": [
    {
     "name": "stdout",
     "output_type": "stream",
     "text": [
      "True\n"
     ]
    }
   ],
   "source": [
    "print(isinstance(autobus,Pojazd))"
   ]
  },
  {
   "cell_type": "markdown",
   "metadata": {
    "id": "jjNBmv7pVwP_"
   },
   "source": [
    "## PRACA DOMOWA (15 pkt)"
   ]
  },
  {
   "cell_type": "code",
   "execution_count": null,
   "metadata": {
    "id": "TTUMq_uuVx32"
   },
   "outputs": [],
   "source": [
    "'''\n",
    "Zadanie 1 (4 pkt)\n",
    "Wykorzystując dekoratory, napisz cache dla funkcji tetranacci z poprzedniego zadania.\n",
    "Ten dekorator powinien zapobiegać przed ponownym obliczaniem tych samych wartości.\n",
    "'''"
   ]
  },
  {
   "cell_type": "code",
   "execution_count": 9,
   "metadata": {},
   "outputs": [
    {
     "name": "stdout",
     "output_type": "stream",
     "text": [
      "56\n"
     ]
    }
   ],
   "source": [
    "def dekorator(func):\n",
    "    cache = {}\n",
    "\n",
    "    def wrapper(n):\n",
    "        if n not in cache:\n",
    "            result = func(n)\n",
    "            cache[n] = result\n",
    "        return cache[n]\n",
    "\n",
    "    return wrapper\n",
    "    \n",
    "@dekorator\n",
    "def tetranacci(n):\n",
    "    if n == 1 or n == 2 or n == 3:\n",
    "        return 0\n",
    "    elif n == 4:\n",
    "        return 1\n",
    "    else:\n",
    "        return tetranacci(n - 1) + tetranacci(n - 2) + tetranacci(n - 3) + tetranacci(n - 4)\n",
    "\n",
    "    \n",
    "print(tetranacci(11))"
   ]
  },
  {
   "cell_type": "code",
   "execution_count": 10,
   "metadata": {
    "id": "Q_Ur2Z9uWF-l"
   },
   "outputs": [
    {
     "name": "stdout",
     "output_type": "stream",
     "text": [
      "10\n",
      "10\n",
      "10\n",
      "10\n",
      "10\n"
     ]
    }
   ],
   "source": [
    "'''\n",
    "Zadanie 2 (4 pkt)\n",
    "Zaimplementuj własny generator o nazwie repeat, zwracający obiekt podany przez użytkownika dokładnie N razy.\n",
    "Jeśli wartość parametru N nie została określona, generator powinien zwracać wartości w nieskończoność.\n",
    "\n",
    "PRZYKŁAD\n",
    "repeat(10, 3) → 10 10 10\n",
    "repeat(10, 5) → 10 10 10 10 10\n",
    "repeat(5) → 5 5 5 5 5 5 5 5 5 5 5 5 5 5 5…\n",
    "repeat(5, None) → 5 5 5 5 5 5 5 5 5 5 5 5 5 5 5…\n",
    "'''\n",
    "\n",
    "\n",
    "def repeat(value, N=None):\n",
    "    if N is None:\n",
    "        while True:\n",
    "            yield value\n",
    "    else:\n",
    "        for i in range(N):\n",
    "            yield value\n",
    "            \n",
    "rp = repeat(10, 5)\n",
    "\n",
    "for i in rp:\n",
    "    print(i)"
   ]
  },
  {
   "cell_type": "code",
   "execution_count": null,
   "metadata": {
    "id": "gChh80FsWzT7"
   },
   "outputs": [],
   "source": [
    "'''\n",
    "Zadanie 3 (1 pkt)\n",
    "W kodzie z zajęć w klasie Pojazd utwórz atrybut, który niezależnie od utworzonego obiektu będzie miał taką samą wartość.\n",
    "każdy obiekt ma mieć kolor biały\n",
    "'''"
   ]
  },
  {
   "cell_type": "code",
   "execution_count": 11,
   "metadata": {},
   "outputs": [
    {
     "name": "stdout",
     "output_type": "stream",
     "text": [
      "34\n",
      "200\n",
      "biały\n"
     ]
    }
   ],
   "source": [
    "class Pojazd:\n",
    "    \n",
    "    kolor = \"biały\"\n",
    "    \n",
    "    def __init__(self, predkosc_max, przebieg, model):\n",
    "        self.predkosc_max = predkosc_max\n",
    "        self.przebieg = przebieg\n",
    "        self.model = model\n",
    "\n",
    "pojazd = Pojazd(200, 34, \"Pojazd XYZ\")\n",
    "print(pojazd.przebieg)\n",
    "print(pojazd.predkosc_max)\n",
    "print(pojazd.kolor)"
   ]
  },
  {
   "cell_type": "code",
   "execution_count": null,
   "metadata": {
    "id": "Q4Js_zjIXHZi"
   },
   "outputs": [],
   "source": [
    "'''\n",
    "Zadanie 4 (2 pkt)\n",
    "Wykorzystaj klasy Autobus i Pojazd.\n",
    "Zdefiniuj metodę opłata, k†óra będzie miała wartość domyślną liczba_miejsc * 100\n",
    "Jeżeli Pojazd jest instancją Autobusu, opłata ma zostać powiększona o 10% wartości opłaty początkowej.\n",
    "Np. jeżeli autobus domyślnie ma 50 miejsc to opłata całkowita wyniesie 5500\n",
    "'''"
   ]
  },
  {
   "cell_type": "code",
   "execution_count": 12,
   "metadata": {},
   "outputs": [
    {
     "name": "stdout",
     "output_type": "stream",
     "text": [
      "34\n",
      "200\n",
      "Pojazd XYZ pomieści 20 osób\n",
      "4000\n",
      "5500.0\n"
     ]
    }
   ],
   "source": [
    "class Pojazd:\n",
    "    def __init__(self, predkosc_max, przebieg, model):\n",
    "        self.predkosc_max = predkosc_max\n",
    "        self.przebieg = przebieg\n",
    "        self.model = model\n",
    "\n",
    "    def liczba_miejsc(self, miejsca):\n",
    "        return f\"{self.model} pomieści {miejsca} osób\"\n",
    "\n",
    "    def oplata(self, miejsca):\n",
    "        return miejsca * 100\n",
    "\n",
    "class Autobus(Pojazd):\n",
    "    def liczba_miejsc(self, miejsca=50):\n",
    "        return f\"{self.model} pomieści {miejsca} osób\"\n",
    "\n",
    "    def oplata(self, miejsca=50):\n",
    "        autobus_oplata = super().oplata(miejsca)\n",
    "        return 1.1 * autobus_oplata\n",
    "    \n",
    "    \n",
    "\n",
    "pojazd = Pojazd(200, 34, \"Pojazd XYZ\")\n",
    "autobus = Autobus(150, 200, \"Autobus XYZ\")\n",
    "print(pojazd.przebieg)\n",
    "print(pojazd.predkosc_max)\n",
    "print(pojazd.liczba_miejsc(20))\n",
    "print(pojazd.oplata(40))\n",
    "print(autobus.oplata())"
   ]
  },
  {
   "cell_type": "code",
   "execution_count": 13,
   "metadata": {
    "id": "BsdImsIAXXsu"
   },
   "outputs": [
    {
     "name": "stdout",
     "output_type": "stream",
     "text": [
      "Funkcja kwadratowa: 2x^2 + 3x + 1\n",
      "1\n",
      "6\n",
      "Nieskończona liczba rozwiązań\n",
      "Brak rozwiązań\n",
      "Jedno rozwiązanie: x = -1.5\n",
      "Brak rozwiązań\n",
      "Dwa rozwiązania: x1 = 2.0, x2 = 3.0\n",
      "Jedno rozwiązanie: x = -2.0\n"
     ]
    }
   ],
   "source": [
    "'''\n",
    "Zadanie 5 (4 pkt)\n",
    "Napisz klasę FunkcjaKwadratowa, która przechowuje funkcje typu $ax^2$+bx+c.\n",
    "Klasa powinna zawierać trzy pola: a, b, c, które są przypisywane w konstruktorze.\n",
    "Główną metodą powinna być rozwiaz(), która zwraca miejsca zerowe podanej funkcji.\n",
    "Należy zwrócić uwagę na przypadki gdy a=0, b=0 lub c=0,\n",
    "a także obmyślić sposób informowania o nieskończonej liczbie, jednym lub zerze rozwiązań.\n",
    "'''\n",
    "\n",
    "'''\n",
    "początek kodu dla ułatwienia\n",
    "\n",
    "'''\n",
    "import math\n",
    "\n",
    "class FunkcjaKwadratowa:\n",
    "    def __init__(self, a, b, c):\n",
    "        self.a = a\n",
    "        self.b = b\n",
    "        self.c = c\n",
    "\n",
    "    def wypisz(self):\n",
    "        print(f\"Funkcja kwadratowa: {self.a}x^2 + {self.b}x + {self.c}\")\n",
    "\n",
    "    def oblicz_wartosc(self, x):\n",
    "        return self.a * x**2 + self.b * x + self.c\n",
    "\n",
    "    def rozwiaz(self):\n",
    "        if self.a == 0:\n",
    "            if self.b == 0:\n",
    "                if self.c == 0:\n",
    "                    return \"Nieskończona liczba rozwiązań\"\n",
    "                else:\n",
    "                    return \"Brak rozwiązań\"\n",
    "            else:\n",
    "                x = -self.c / self.b\n",
    "                return f\"Jedno rozwiązanie: x = {x}\"\n",
    "        else:\n",
    "            delta = self.b**2 - 4 * self.a * self.c\n",
    "            if delta > 0:\n",
    "                x1 = (-self.b - math.sqrt(delta)) / (2 * self.a)\n",
    "                x2 = (-self.b + math.sqrt(delta)) / (2 * self.a)\n",
    "                return f\"Dwa rozwiązania: x1 = {x1}, x2 = {x2}\"\n",
    "            elif delta == 0:\n",
    "                x = -self.b / (2 * self.a)\n",
    "                return f\"Jedno rozwiązanie: x = {x}\"\n",
    "            else:\n",
    "                return \"Brak rozwiązań\"\n",
    "\n",
    "def main():\n",
    "    f1 = FunkcjaKwadratowa(2, 3, 1)\n",
    "    f1.wypisz()\n",
    "    print(f1.oblicz_wartosc(0))\n",
    "    print(f1.oblicz_wartosc(1))\n",
    "\n",
    "    print(FunkcjaKwadratowa(0, 0, 0).rozwiaz())\n",
    "    print(FunkcjaKwadratowa(0, 0, 1).rozwiaz())\n",
    "    print(FunkcjaKwadratowa(0, 2, 3).rozwiaz())\n",
    "    print(FunkcjaKwadratowa(1, 2, 3).rozwiaz())\n",
    "    print(FunkcjaKwadratowa(1, -5, 6).rozwiaz())\n",
    "    print(FunkcjaKwadratowa(1, 4, 4).rozwiaz())\n",
    "\n",
    "if __name__ == \"__main__\":\n",
    "    main()"
   ]
  },
  {
   "cell_type": "code",
   "execution_count": null,
   "metadata": {},
   "outputs": [],
   "source": []
  }
 ],
 "metadata": {
  "colab": {
   "authorship_tag": "ABX9TyPfvCA8avt9JyH+RrMyhpFb",
   "provenance": []
  },
  "kernelspec": {
   "display_name": "Python 3 (ipykernel)",
   "language": "python",
   "name": "python3"
  },
  "language_info": {
   "codemirror_mode": {
    "name": "ipython",
    "version": 3
   },
   "file_extension": ".py",
   "mimetype": "text/x-python",
   "name": "python",
   "nbconvert_exporter": "python",
   "pygments_lexer": "ipython3",
   "version": "3.10.6"
  }
 },
 "nbformat": 4,
 "nbformat_minor": 1
}
